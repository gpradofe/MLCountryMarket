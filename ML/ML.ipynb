{
 "cells": [
  {
   "attachments": {},
   "cell_type": "markdown",
   "metadata": {},
   "source": [
    "### Imports"
   ]
  },
  {
   "cell_type": "code",
   "execution_count": 646,
   "metadata": {},
   "outputs": [],
   "source": [
    "import random\n",
    "import collections\n",
    "from functools import partial\n",
    "import numpy as np\n",
    "import pandas as pd\n",
    "import matplotlib.pyplot as plt\n",
    "from spacy import cli\n",
    "import torch\n",
    "import transformers as ppb\n",
    "import warnings\n",
    "from sklearn.decomposition import PCA\n",
    "from sklearn.manifold import TSNE\n",
    "from sklearn.cluster import KMeans\n",
    "import umap\n",
    "import hdbscan\n",
    "\n",
    "warnings.filterwarnings('ignore')\n",
    "\n",
    "plt.rcParams[\"figure.figsize\"] = (10,6)"
   ]
  },
  {
   "attachments": {},
   "cell_type": "markdown",
   "metadata": {},
   "source": [
    "### Prepare Data"
   ]
  },
  {
   "cell_type": "code",
   "execution_count": 647,
   "metadata": {},
   "outputs": [],
   "source": [
    "bigdata = pd.read_csv(\"/Users/gustagol_jr/Documents/GitHub/MLCountryMarket/ML/TheCountryMarketAnswers.csv\")"
   ]
  },
  {
   "cell_type": "code",
   "execution_count": 648,
   "metadata": {},
   "outputs": [],
   "source": [
    "del bigdata['Timestamp']\n",
    "bigdata['Missing'].fillna('N/a',inplace=True)"
   ]
  },
  {
   "cell_type": "code",
   "execution_count": 649,
   "metadata": {},
   "outputs": [
    {
     "data": {
      "text/html": [
       "<div>\n",
       "<style scoped>\n",
       "    .dataframe tbody tr th:only-of-type {\n",
       "        vertical-align: middle;\n",
       "    }\n",
       "\n",
       "    .dataframe tbody tr th {\n",
       "        vertical-align: top;\n",
       "    }\n",
       "\n",
       "    .dataframe thead th {\n",
       "        text-align: right;\n",
       "    }\n",
       "</style>\n",
       "<table border=\"1\" class=\"dataframe\">\n",
       "  <thead>\n",
       "    <tr style=\"text-align: right;\">\n",
       "      <th></th>\n",
       "      <th>Town</th>\n",
       "      <th>Retailers</th>\n",
       "      <th>Distance</th>\n",
       "      <th>Frequency</th>\n",
       "      <th>LastPurchased</th>\n",
       "      <th>LocallyOwn</th>\n",
       "      <th>Missing</th>\n",
       "      <th>Resolve</th>\n",
       "      <th>PurchaseFreshFood</th>\n",
       "      <th>DistanceFreshFood</th>\n",
       "      <th>...</th>\n",
       "      <th>SmallerPacketsImpact</th>\n",
       "      <th>More</th>\n",
       "      <th>LocallyOwnedPast</th>\n",
       "      <th>WhyClosed</th>\n",
       "      <th>HowMuchWantFreshFood</th>\n",
       "      <th>HowWouldImpact</th>\n",
       "      <th>HowLikelyToShopThere</th>\n",
       "      <th>SmallerPacketsImpactPlan</th>\n",
       "      <th>SpentOnGroceries</th>\n",
       "      <th>TopThreeFoods</th>\n",
       "    </tr>\n",
       "  </thead>\n",
       "  <tbody>\n",
       "    <tr>\n",
       "      <th>0</th>\n",
       "      <td>South Bend, Indiana</td>\n",
       "      <td>2</td>\n",
       "      <td>Between 3 miles and 5 miles</td>\n",
       "      <td>3-4 times per week</td>\n",
       "      <td>Dollar General/Dollar Tree, Walmart, Costco</td>\n",
       "      <td>Yes</td>\n",
       "      <td>knkmknkn</td>\n",
       "      <td>lkkjnkl</td>\n",
       "      <td>NaN</td>\n",
       "      <td>NaN</td>\n",
       "      <td>...</td>\n",
       "      <td>NaN</td>\n",
       "      <td>m m</td>\n",
       "      <td>NaN</td>\n",
       "      <td>NaN</td>\n",
       "      <td>NaN</td>\n",
       "      <td>NaN</td>\n",
       "      <td>NaN</td>\n",
       "      <td>NaN</td>\n",
       "      <td>$751-$1000</td>\n",
       "      <td>Canned food, Alcoholic Beverages, Dry/baking g...</td>\n",
       "    </tr>\n",
       "    <tr>\n",
       "      <th>1</th>\n",
       "      <td>Town of Milford</td>\n",
       "      <td>1</td>\n",
       "      <td>Less than 3 miles</td>\n",
       "      <td>1-2 times per week</td>\n",
       "      <td>Dollar General/Dollar Tree, Walmart, Costco, M...</td>\n",
       "      <td>No</td>\n",
       "      <td>Fresh Produce</td>\n",
       "      <td>Fresh affordable, quality produce available ye...</td>\n",
       "      <td>NaN</td>\n",
       "      <td>NaN</td>\n",
       "      <td>...</td>\n",
       "      <td>NaN</td>\n",
       "      <td>NaN</td>\n",
       "      <td>Yes</td>\n",
       "      <td>I have no idea</td>\n",
       "      <td>5.0</td>\n",
       "      <td>I would be able to have fresh fruits and veget...</td>\n",
       "      <td>5.0</td>\n",
       "      <td>1.0</td>\n",
       "      <td>$501-$750</td>\n",
       "      <td>Dairy, Frozen foods, Dry/baking goods</td>\n",
       "    </tr>\n",
       "    <tr>\n",
       "      <th>2</th>\n",
       "      <td>LaPaz</td>\n",
       "      <td>2</td>\n",
       "      <td>Less than 3 miles</td>\n",
       "      <td>1-2 times per week</td>\n",
       "      <td>Dollar General/Dollar Tree, Martin's, Kroger, ...</td>\n",
       "      <td>Yes</td>\n",
       "      <td>larger variety</td>\n",
       "      <td>LaPaz only has Mac's Market and Dollar General...</td>\n",
       "      <td>NaN</td>\n",
       "      <td>NaN</td>\n",
       "      <td>...</td>\n",
       "      <td>NaN</td>\n",
       "      <td>NaN</td>\n",
       "      <td>NaN</td>\n",
       "      <td>NaN</td>\n",
       "      <td>NaN</td>\n",
       "      <td>NaN</td>\n",
       "      <td>NaN</td>\n",
       "      <td>NaN</td>\n",
       "      <td>$0-$250</td>\n",
       "      <td>Non-alcoholic beverage, Frozen foods, Meat</td>\n",
       "    </tr>\n",
       "    <tr>\n",
       "      <th>3</th>\n",
       "      <td>Galien mi</td>\n",
       "      <td>2</td>\n",
       "      <td>Less than 3 miles</td>\n",
       "      <td>1-2 times per week</td>\n",
       "      <td>Walmart, Meijer</td>\n",
       "      <td>Maybe</td>\n",
       "      <td>Fresh produce</td>\n",
       "      <td>Local delivery from Whole Foods or independent...</td>\n",
       "      <td>NaN</td>\n",
       "      <td>NaN</td>\n",
       "      <td>...</td>\n",
       "      <td>NaN</td>\n",
       "      <td>NaN</td>\n",
       "      <td>NaN</td>\n",
       "      <td>NaN</td>\n",
       "      <td>NaN</td>\n",
       "      <td>NaN</td>\n",
       "      <td>NaN</td>\n",
       "      <td>NaN</td>\n",
       "      <td>$251-$500</td>\n",
       "      <td>Non-alcoholic beverage, Meat, Dry/baking goods</td>\n",
       "    </tr>\n",
       "    <tr>\n",
       "      <th>4</th>\n",
       "      <td>Bremen</td>\n",
       "      <td>3</td>\n",
       "      <td>Between 5 and 10 miles</td>\n",
       "      <td>1-2 times per week</td>\n",
       "      <td>Costco, Martin's, Kroger, Local grocery store</td>\n",
       "      <td>Yes</td>\n",
       "      <td>Good fresh produce</td>\n",
       "      <td>Better suppliers, working with local farmers</td>\n",
       "      <td>NaN</td>\n",
       "      <td>NaN</td>\n",
       "      <td>...</td>\n",
       "      <td>NaN</td>\n",
       "      <td>Quality of products has drastically decreased ...</td>\n",
       "      <td>NaN</td>\n",
       "      <td>NaN</td>\n",
       "      <td>NaN</td>\n",
       "      <td>NaN</td>\n",
       "      <td>NaN</td>\n",
       "      <td>NaN</td>\n",
       "      <td>$501-$750</td>\n",
       "      <td>Bread/bakery, Dairy, Meat</td>\n",
       "    </tr>\n",
       "    <tr>\n",
       "      <th>5</th>\n",
       "      <td>Wakarusa, IN</td>\n",
       "      <td>2</td>\n",
       "      <td>Less than 3 miles</td>\n",
       "      <td>1-2 times per week</td>\n",
       "      <td>Dollar General/Dollar Tree, Meijer, Aldi</td>\n",
       "      <td>Yes</td>\n",
       "      <td>N/a</td>\n",
       "      <td>NaN</td>\n",
       "      <td>NaN</td>\n",
       "      <td>NaN</td>\n",
       "      <td>...</td>\n",
       "      <td>NaN</td>\n",
       "      <td>NaN</td>\n",
       "      <td>NaN</td>\n",
       "      <td>NaN</td>\n",
       "      <td>NaN</td>\n",
       "      <td>NaN</td>\n",
       "      <td>NaN</td>\n",
       "      <td>NaN</td>\n",
       "      <td>$501-$750</td>\n",
       "      <td>Bread/bakery, Dairy, Meat</td>\n",
       "    </tr>\n",
       "    <tr>\n",
       "      <th>6</th>\n",
       "      <td>Wakarusa, IN</td>\n",
       "      <td>1</td>\n",
       "      <td>Less than 3 miles</td>\n",
       "      <td>1-2 times per week</td>\n",
       "      <td>Dollar General/Dollar Tree, Costco, Martin's, ...</td>\n",
       "      <td>No</td>\n",
       "      <td>more fresh/healthy options</td>\n",
       "      <td>trader joes</td>\n",
       "      <td>NaN</td>\n",
       "      <td>NaN</td>\n",
       "      <td>...</td>\n",
       "      <td>NaN</td>\n",
       "      <td>NaN</td>\n",
       "      <td>No</td>\n",
       "      <td>No idea</td>\n",
       "      <td>5.0</td>\n",
       "      <td>I would shop there all the time.</td>\n",
       "      <td>5.0</td>\n",
       "      <td>1.0</td>\n",
       "      <td>$1001-$1250</td>\n",
       "      <td>Bread/bakery, Meat</td>\n",
       "    </tr>\n",
       "    <tr>\n",
       "      <th>7</th>\n",
       "      <td>North Liberty, IN</td>\n",
       "      <td>2</td>\n",
       "      <td>Less than 3 miles</td>\n",
       "      <td>1-2 times per week</td>\n",
       "      <td>Costco, Martin's, Meijer</td>\n",
       "      <td>Yes</td>\n",
       "      <td>I don't shop at the Dollar General, but the lo...</td>\n",
       "      <td>Not sure what the best solution is because you...</td>\n",
       "      <td>NaN</td>\n",
       "      <td>NaN</td>\n",
       "      <td>...</td>\n",
       "      <td>NaN</td>\n",
       "      <td>It's a butcher shop and they have some amazing...</td>\n",
       "      <td>NaN</td>\n",
       "      <td>NaN</td>\n",
       "      <td>NaN</td>\n",
       "      <td>NaN</td>\n",
       "      <td>NaN</td>\n",
       "      <td>NaN</td>\n",
       "      <td>$251-$500</td>\n",
       "      <td>Dairy, Meat, Dry/baking goods</td>\n",
       "    </tr>\n",
       "    <tr>\n",
       "      <th>8</th>\n",
       "      <td>Warsaw</td>\n",
       "      <td>5+</td>\n",
       "      <td>Between 3 miles and 5 miles</td>\n",
       "      <td>1-2 times per week</td>\n",
       "      <td>Walmart, Kroger, Meijer</td>\n",
       "      <td>No</td>\n",
       "      <td>Grocery Store other than Dollar General close ...</td>\n",
       "      <td>Someone that would want to open a new grocery ...</td>\n",
       "      <td>NaN</td>\n",
       "      <td>NaN</td>\n",
       "      <td>...</td>\n",
       "      <td>NaN</td>\n",
       "      <td>NaN</td>\n",
       "      <td>Yes</td>\n",
       "      <td>No idea</td>\n",
       "      <td>5.0</td>\n",
       "      <td>Easier access for those who can't get to the o...</td>\n",
       "      <td>5.0</td>\n",
       "      <td>5.0</td>\n",
       "      <td>$0-$250</td>\n",
       "      <td>Dairy, Frozen foods, Meat</td>\n",
       "    </tr>\n",
       "    <tr>\n",
       "      <th>9</th>\n",
       "      <td>Wakarusa</td>\n",
       "      <td>2</td>\n",
       "      <td>Less than 3 miles</td>\n",
       "      <td>1-2 times per week</td>\n",
       "      <td>Dollar General/Dollar Tree, Local grocery stor...</td>\n",
       "      <td>No</td>\n",
       "      <td>More fresh food</td>\n",
       "      <td>I don’t know, small demographic does not allow...</td>\n",
       "      <td>NaN</td>\n",
       "      <td>NaN</td>\n",
       "      <td>...</td>\n",
       "      <td>NaN</td>\n",
       "      <td>NaN</td>\n",
       "      <td>Yes</td>\n",
       "      <td>Town was too small to support big stores have ...</td>\n",
       "      <td>5.0</td>\n",
       "      <td>Yes</td>\n",
       "      <td>5.0</td>\n",
       "      <td>3.0</td>\n",
       "      <td>$501-$750</td>\n",
       "      <td>Dairy, Alcoholic Beverages, Meat</td>\n",
       "    </tr>\n",
       "  </tbody>\n",
       "</table>\n",
       "<p>10 rows × 24 columns</p>\n",
       "</div>"
      ],
      "text/plain": [
       "                  Town Retailers                     Distance  \\\n",
       "0  South Bend, Indiana         2  Between 3 miles and 5 miles   \n",
       "1      Town of Milford         1            Less than 3 miles   \n",
       "2                LaPaz         2            Less than 3 miles   \n",
       "3            Galien mi         2            Less than 3 miles   \n",
       "4               Bremen         3       Between 5 and 10 miles   \n",
       "5         Wakarusa, IN         2            Less than 3 miles   \n",
       "6         Wakarusa, IN         1            Less than 3 miles   \n",
       "7    North Liberty, IN         2            Less than 3 miles   \n",
       "8               Warsaw        5+  Between 3 miles and 5 miles   \n",
       "9            Wakarusa          2            Less than 3 miles   \n",
       "\n",
       "            Frequency                                      LastPurchased  \\\n",
       "0  3-4 times per week        Dollar General/Dollar Tree, Walmart, Costco   \n",
       "1  1-2 times per week  Dollar General/Dollar Tree, Walmart, Costco, M...   \n",
       "2  1-2 times per week  Dollar General/Dollar Tree, Martin's, Kroger, ...   \n",
       "3  1-2 times per week                                    Walmart, Meijer   \n",
       "4  1-2 times per week      Costco, Martin's, Kroger, Local grocery store   \n",
       "5  1-2 times per week           Dollar General/Dollar Tree, Meijer, Aldi   \n",
       "6  1-2 times per week  Dollar General/Dollar Tree, Costco, Martin's, ...   \n",
       "7  1-2 times per week                           Costco, Martin's, Meijer   \n",
       "8  1-2 times per week                            Walmart, Kroger, Meijer   \n",
       "9  1-2 times per week  Dollar General/Dollar Tree, Local grocery stor...   \n",
       "\n",
       "  LocallyOwn                                            Missing  \\\n",
       "0        Yes                                           knkmknkn   \n",
       "1         No                                      Fresh Produce   \n",
       "2        Yes                                    larger variety    \n",
       "3      Maybe                                     Fresh produce    \n",
       "4        Yes                                 Good fresh produce   \n",
       "5        Yes                                                N/a   \n",
       "6         No                         more fresh/healthy options   \n",
       "7        Yes  I don't shop at the Dollar General, but the lo...   \n",
       "8         No  Grocery Store other than Dollar General close ...   \n",
       "9         No                                    More fresh food   \n",
       "\n",
       "                                             Resolve PurchaseFreshFood  \\\n",
       "0                                            lkkjnkl               NaN   \n",
       "1  Fresh affordable, quality produce available ye...               NaN   \n",
       "2  LaPaz only has Mac's Market and Dollar General...               NaN   \n",
       "3  Local delivery from Whole Foods or independent...               NaN   \n",
       "4       Better suppliers, working with local farmers               NaN   \n",
       "5                                                NaN               NaN   \n",
       "6                                        trader joes               NaN   \n",
       "7  Not sure what the best solution is because you...               NaN   \n",
       "8  Someone that would want to open a new grocery ...               NaN   \n",
       "9  I don’t know, small demographic does not allow...               NaN   \n",
       "\n",
       "  DistanceFreshFood  ...  SmallerPacketsImpact  \\\n",
       "0               NaN  ...                   NaN   \n",
       "1               NaN  ...                   NaN   \n",
       "2               NaN  ...                   NaN   \n",
       "3               NaN  ...                   NaN   \n",
       "4               NaN  ...                   NaN   \n",
       "5               NaN  ...                   NaN   \n",
       "6               NaN  ...                   NaN   \n",
       "7               NaN  ...                   NaN   \n",
       "8               NaN  ...                   NaN   \n",
       "9               NaN  ...                   NaN   \n",
       "\n",
       "                                                More  LocallyOwnedPast  \\\n",
       "0                                               m m                NaN   \n",
       "1                                                NaN               Yes   \n",
       "2                                                NaN               NaN   \n",
       "3                                                NaN               NaN   \n",
       "4  Quality of products has drastically decreased ...               NaN   \n",
       "5                                                NaN               NaN   \n",
       "6                                                NaN                No   \n",
       "7  It's a butcher shop and they have some amazing...               NaN   \n",
       "8                                                NaN               Yes   \n",
       "9                                                NaN               Yes   \n",
       "\n",
       "                                           WhyClosed  HowMuchWantFreshFood  \\\n",
       "0                                                NaN                   NaN   \n",
       "1                                     I have no idea                   5.0   \n",
       "2                                                NaN                   NaN   \n",
       "3                                                NaN                   NaN   \n",
       "4                                                NaN                   NaN   \n",
       "5                                                NaN                   NaN   \n",
       "6                                            No idea                   5.0   \n",
       "7                                                NaN                   NaN   \n",
       "8                                            No idea                   5.0   \n",
       "9  Town was too small to support big stores have ...                   5.0   \n",
       "\n",
       "                                      HowWouldImpact HowLikelyToShopThere  \\\n",
       "0                                                NaN                  NaN   \n",
       "1  I would be able to have fresh fruits and veget...                  5.0   \n",
       "2                                                NaN                  NaN   \n",
       "3                                                NaN                  NaN   \n",
       "4                                                NaN                  NaN   \n",
       "5                                                NaN                  NaN   \n",
       "6                   I would shop there all the time.                  5.0   \n",
       "7                                                NaN                  NaN   \n",
       "8  Easier access for those who can't get to the o...                  5.0   \n",
       "9                                                Yes                  5.0   \n",
       "\n",
       "  SmallerPacketsImpactPlan  SpentOnGroceries  \\\n",
       "0                      NaN        $751-$1000   \n",
       "1                      1.0         $501-$750   \n",
       "2                      NaN           $0-$250   \n",
       "3                      NaN         $251-$500   \n",
       "4                      NaN         $501-$750   \n",
       "5                      NaN         $501-$750   \n",
       "6                      1.0       $1001-$1250   \n",
       "7                      NaN         $251-$500   \n",
       "8                      5.0           $0-$250   \n",
       "9                      3.0         $501-$750   \n",
       "\n",
       "                                       TopThreeFoods  \n",
       "0  Canned food, Alcoholic Beverages, Dry/baking g...  \n",
       "1              Dairy, Frozen foods, Dry/baking goods  \n",
       "2         Non-alcoholic beverage, Frozen foods, Meat  \n",
       "3     Non-alcoholic beverage, Meat, Dry/baking goods  \n",
       "4                          Bread/bakery, Dairy, Meat  \n",
       "5                          Bread/bakery, Dairy, Meat  \n",
       "6                                 Bread/bakery, Meat  \n",
       "7                      Dairy, Meat, Dry/baking goods  \n",
       "8                          Dairy, Frozen foods, Meat  \n",
       "9                   Dairy, Alcoholic Beverages, Meat  \n",
       "\n",
       "[10 rows x 24 columns]"
      ]
     },
     "execution_count": 649,
     "metadata": {},
     "output_type": "execute_result"
    }
   ],
   "source": [
    "bigdata.head(10)"
   ]
  },
  {
   "cell_type": "code",
   "execution_count": 650,
   "metadata": {},
   "outputs": [],
   "source": [
    "data = bigdata[['Town','Missing']].copy()\n"
   ]
  },
  {
   "attachments": {},
   "cell_type": "markdown",
   "metadata": {},
   "source": [
    "### Tokenize"
   ]
  },
  {
   "cell_type": "code",
   "execution_count": 651,
   "metadata": {},
   "outputs": [
    {
     "name": "stderr",
     "output_type": "stream",
     "text": [
      "Some weights of the model checkpoint at bert-base-uncased were not used when initializing BertModel: ['cls.predictions.transform.dense.weight', 'cls.predictions.transform.LayerNorm.bias', 'cls.seq_relationship.weight', 'cls.predictions.bias', 'cls.predictions.transform.dense.bias', 'cls.seq_relationship.bias', 'cls.predictions.transform.LayerNorm.weight', 'cls.predictions.decoder.weight']\n",
      "- This IS expected if you are initializing BertModel from the checkpoint of a model trained on another task or with another architecture (e.g. initializing a BertForSequenceClassification model from a BertForPreTraining model).\n",
      "- This IS NOT expected if you are initializing BertModel from the checkpoint of a model that you expect to be exactly identical (initializing a BertForSequenceClassification model from a BertForSequenceClassification model).\n"
     ]
    }
   ],
   "source": [
    "model_class, tokenizer_class, pretreined_weights = (ppb.BertModel, ppb.BertTokenizer,'bert-base-uncased')\n",
    "\n",
    "tokenizer = tokenizer_class.from_pretrained(pretreined_weights)\n",
    "\n",
    "model = model_class.from_pretrained(pretreined_weights)"
   ]
  },
  {
   "cell_type": "code",
   "execution_count": 652,
   "metadata": {},
   "outputs": [
    {
     "data": {
      "text/plain": [
       "0             [101, 14161, 22287, 2243, 8950, 2078, 102]\n",
       "1                                 [101, 4840, 3965, 102]\n",
       "2                                 [101, 3469, 3528, 102]\n",
       "3                                 [101, 4840, 3965, 102]\n",
       "4                           [101, 2204, 4840, 3965, 102]\n",
       "                             ...                        \n",
       "137    [101, 4840, 3965, 1010, 2204, 6240, 2533, 1010...\n",
       "138    [101, 2632, 4305, 2030, 16269, 2544, 1997, 130...\n",
       "139      [101, 15184, 1998, 2152, 3737, 4840, 3965, 102]\n",
       "140                                     [101, 2498, 102]\n",
       "141            [101, 3029, 1013, 3688, 2006, 15475, 102]\n",
       "Name: Missing, Length: 142, dtype: object"
      ]
     },
     "execution_count": 652,
     "metadata": {},
     "output_type": "execute_result"
    }
   ],
   "source": [
    "tokenized = data['Missing'].apply((lambda x: tokenizer.encode(x, add_special_tokens=True)))\n",
    "tokenized"
   ]
  },
  {
   "cell_type": "code",
   "execution_count": 653,
   "metadata": {},
   "outputs": [
    {
     "data": {
      "text/plain": [
       "(142, 66)"
      ]
     },
     "execution_count": 653,
     "metadata": {},
     "output_type": "execute_result"
    }
   ],
   "source": [
    "max_len = 0\n",
    "\n",
    "for i in tokenized.values:\n",
    "    if len(i) > max_len:\n",
    "        max_len = len(i)\n",
    "        \n",
    "padded = np.array([i+[0]*(max_len-len(i)) for i in tokenized.values])\n",
    "\n",
    "padded = np.array([list(x[:512]) for x in padded])\n",
    "\n",
    "np.array(padded).shape"
   ]
  },
  {
   "cell_type": "code",
   "execution_count": 654,
   "metadata": {},
   "outputs": [
    {
     "data": {
      "text/plain": [
       "(142, 66)"
      ]
     },
     "execution_count": 654,
     "metadata": {},
     "output_type": "execute_result"
    }
   ],
   "source": [
    "attention_mask = np.where(padded != 0,1,0)\n",
    "attention_mask.shape"
   ]
  },
  {
   "cell_type": "code",
   "execution_count": 655,
   "metadata": {},
   "outputs": [],
   "source": [
    "input_ids = torch.tensor(padded)\n",
    "attention_mask = torch.tensor(attention_mask)\n",
    "\n",
    "with torch.no_grad():\n",
    "    last_hidden_states = model(input_ids,attention_mask = attention_mask)"
   ]
  },
  {
   "cell_type": "code",
   "execution_count": 656,
   "metadata": {},
   "outputs": [
    {
     "data": {
      "text/plain": [
       "(142, 768)"
      ]
     },
     "execution_count": 656,
     "metadata": {},
     "output_type": "execute_result"
    }
   ],
   "source": [
    "features = last_hidden_states[0][:,0,:].numpy()\n",
    "features.shape"
   ]
  },
  {
   "attachments": {},
   "cell_type": "markdown",
   "metadata": {},
   "source": [
    "### Clustering"
   ]
  },
  {
   "cell_type": "code",
   "execution_count": 657,
   "metadata": {},
   "outputs": [],
   "source": [
    "umap_embeddings = umap.UMAP(n_neighbors=5,n_components=5,metric = 'cosine',random_state=32).fit_transform(features)\n",
    "cluster = hdbscan.HDBSCAN(min_cluster_size=10,\n",
    "                          metric = 'euclidean',\n",
    "                          cluster_selection_method='eom').fit(umap_embeddings)"
   ]
  },
  {
   "cell_type": "code",
   "execution_count": 658,
   "metadata": {},
   "outputs": [
    {
     "data": {
      "text/plain": [
       "array([ 1,  1,  1,  1,  1, -1,  1,  1,  1,  1,  1,  1,  1,  1,  1,  1,  1,\n",
       "        1,  1,  1,  1,  1,  1,  1,  1,  1,  1,  1,  1,  1,  1,  1,  1,  1,\n",
       "        1,  1, -1,  1,  1,  1,  1,  0,  1,  1,  1,  1,  1,  1,  1,  1,  1,\n",
       "        1,  1,  1,  1,  1, -1,  1,  1,  1,  1,  1,  1,  1,  1,  1,  0,  1,\n",
       "        0,  1,  1,  1, -1,  1,  1,  1,  1,  1,  1,  0,  1,  0,  1,  1,  1,\n",
       "        1, -1,  1,  1,  1,  0, -1,  1,  1,  1,  0,  1,  1,  1,  1,  0,  1,\n",
       "        1,  0,  1,  1,  1,  1,  1,  1,  1,  1,  1,  1,  1,  1,  1,  1,  1,\n",
       "        0,  1,  1,  1,  1,  1,  1,  1,  1,  1,  1,  1,  1,  1,  1,  1,  1,\n",
       "        1,  1,  1,  1,  0,  1])"
      ]
     },
     "execution_count": 658,
     "metadata": {},
     "output_type": "execute_result"
    }
   ],
   "source": [
    "cluster.labels_"
   ]
  },
  {
   "cell_type": "code",
   "execution_count": 659,
   "metadata": {},
   "outputs": [],
   "source": [
    "# Prepare data to visualize\n",
    "umap_data = umap.UMAP(n_neighbors=5, n_components=2, min_dist=0.0, metric='cosine',random_state=5).fit_transform(features)\n",
    "result = pd.DataFrame(umap_data, columns=['x', 'y'])\n",
    "result['labels'] = cluster.labels_\n",
    "\n"
   ]
  },
  {
   "cell_type": "code",
   "execution_count": 660,
   "metadata": {},
   "outputs": [
    {
     "data": {
      "text/plain": [
       "<matplotlib.colorbar.Colorbar at 0x29d5e6020>"
      ]
     },
     "execution_count": 660,
     "metadata": {},
     "output_type": "execute_result"
    },
    {
     "data": {
      "image/png": "[encoded data removed]",
      "text/plain": [
       "<Figure size 2000x1000 with 2 Axes>"
      ]
     },
     "metadata": {},
     "output_type": "display_data"
    }
   ],
   "source": [
    "fig, ax = plt.subplots(figsize=(20, 10))\n",
    "outliers = result.loc[result.labels == -1, :]\n",
    "clustered = result.loc[result.labels != -1, :]\n",
    "plt.scatter(outliers.x, outliers.y, color='#BDBDBD')\n",
    "plt.scatter(clustered.x, clustered.y, c=clustered.labels, cmap='coolwarm',s=50)\n",
    "plt.colorbar()"
   ]
  },
  {
   "cell_type": "code",
   "execution_count": 661,
   "metadata": {},
   "outputs": [
    {
     "data": {
      "text/html": [
       "<div>\n",
       "<style scoped>\n",
       "    .dataframe tbody tr th:only-of-type {\n",
       "        vertical-align: middle;\n",
       "    }\n",
       "\n",
       "    .dataframe tbody tr th {\n",
       "        vertical-align: top;\n",
       "    }\n",
       "\n",
       "    .dataframe thead th {\n",
       "        text-align: right;\n",
       "    }\n",
       "</style>\n",
       "<table border=\"1\" class=\"dataframe\">\n",
       "  <thead>\n",
       "    <tr style=\"text-align: right;\">\n",
       "      <th></th>\n",
       "      <th>Town</th>\n",
       "      <th>Missing</th>\n",
       "      <th>labels</th>\n",
       "    </tr>\n",
       "  </thead>\n",
       "  <tbody>\n",
       "    <tr>\n",
       "      <th>0</th>\n",
       "      <td>South Bend, Indiana</td>\n",
       "      <td>knkmknkn</td>\n",
       "      <td>1</td>\n",
       "    </tr>\n",
       "    <tr>\n",
       "      <th>1</th>\n",
       "      <td>Town of Milford</td>\n",
       "      <td>Fresh Produce</td>\n",
       "      <td>1</td>\n",
       "    </tr>\n",
       "    <tr>\n",
       "      <th>2</th>\n",
       "      <td>LaPaz</td>\n",
       "      <td>larger variety</td>\n",
       "      <td>1</td>\n",
       "    </tr>\n",
       "    <tr>\n",
       "      <th>3</th>\n",
       "      <td>Galien mi</td>\n",
       "      <td>Fresh produce</td>\n",
       "      <td>1</td>\n",
       "    </tr>\n",
       "    <tr>\n",
       "      <th>4</th>\n",
       "      <td>Bremen</td>\n",
       "      <td>Good fresh produce</td>\n",
       "      <td>1</td>\n",
       "    </tr>\n",
       "    <tr>\n",
       "      <th>5</th>\n",
       "      <td>Wakarusa, IN</td>\n",
       "      <td>N/a</td>\n",
       "      <td>-1</td>\n",
       "    </tr>\n",
       "    <tr>\n",
       "      <th>6</th>\n",
       "      <td>Wakarusa, IN</td>\n",
       "      <td>more fresh/healthy options</td>\n",
       "      <td>1</td>\n",
       "    </tr>\n",
       "    <tr>\n",
       "      <th>7</th>\n",
       "      <td>North Liberty, IN</td>\n",
       "      <td>I don't shop at the Dollar General, but the lo...</td>\n",
       "      <td>1</td>\n",
       "    </tr>\n",
       "    <tr>\n",
       "      <th>8</th>\n",
       "      <td>Warsaw</td>\n",
       "      <td>Grocery Store other than Dollar General close ...</td>\n",
       "      <td>1</td>\n",
       "    </tr>\n",
       "    <tr>\n",
       "      <th>9</th>\n",
       "      <td>Wakarusa</td>\n",
       "      <td>More fresh food</td>\n",
       "      <td>1</td>\n",
       "    </tr>\n",
       "  </tbody>\n",
       "</table>\n",
       "</div>"
      ],
      "text/plain": [
       "                  Town                                            Missing  \\\n",
       "0  South Bend, Indiana                                           knkmknkn   \n",
       "1      Town of Milford                                      Fresh Produce   \n",
       "2                LaPaz                                    larger variety    \n",
       "3            Galien mi                                     Fresh produce    \n",
       "4               Bremen                                 Good fresh produce   \n",
       "5         Wakarusa, IN                                                N/a   \n",
       "6         Wakarusa, IN                         more fresh/healthy options   \n",
       "7    North Liberty, IN  I don't shop at the Dollar General, but the lo...   \n",
       "8               Warsaw  Grocery Store other than Dollar General close ...   \n",
       "9            Wakarusa                                     More fresh food   \n",
       "\n",
       "   labels  \n",
       "0       1  \n",
       "1       1  \n",
       "2       1  \n",
       "3       1  \n",
       "4       1  \n",
       "5      -1  \n",
       "6       1  \n",
       "7       1  \n",
       "8       1  \n",
       "9       1  "
      ]
     },
     "execution_count": 661,
     "metadata": {},
     "output_type": "execute_result"
    }
   ],
   "source": [
    "data['labels'] = cluster.labels_\n",
    "data.head(10)"
   ]
  },
  {
   "cell_type": "code",
   "execution_count": 662,
   "metadata": {},
   "outputs": [
    {
     "data": {
      "text/html": [
       "<div>\n",
       "<style scoped>\n",
       "    .dataframe tbody tr th:only-of-type {\n",
       "        vertical-align: middle;\n",
       "    }\n",
       "\n",
       "    .dataframe tbody tr th {\n",
       "        vertical-align: top;\n",
       "    }\n",
       "\n",
       "    .dataframe thead th {\n",
       "        text-align: right;\n",
       "    }\n",
       "</style>\n",
       "<table border=\"1\" class=\"dataframe\">\n",
       "  <thead>\n",
       "    <tr style=\"text-align: right;\">\n",
       "      <th></th>\n",
       "      <th>Town</th>\n",
       "      <th>Missing</th>\n",
       "      <th>labels</th>\n",
       "    </tr>\n",
       "  </thead>\n",
       "  <tbody>\n",
       "    <tr>\n",
       "      <th>41</th>\n",
       "      <td>Bremen</td>\n",
       "      <td>Nothing</td>\n",
       "      <td>0</td>\n",
       "    </tr>\n",
       "    <tr>\n",
       "      <th>66</th>\n",
       "      <td>Knox</td>\n",
       "      <td>Nothing really.</td>\n",
       "      <td>0</td>\n",
       "    </tr>\n",
       "    <tr>\n",
       "      <th>68</th>\n",
       "      <td>Plymouth, IN</td>\n",
       "      <td>nothing</td>\n",
       "      <td>0</td>\n",
       "    </tr>\n",
       "    <tr>\n",
       "      <th>79</th>\n",
       "      <td>Aldine</td>\n",
       "      <td>Nothing</td>\n",
       "      <td>0</td>\n",
       "    </tr>\n",
       "    <tr>\n",
       "      <th>81</th>\n",
       "      <td>Mishawaka</td>\n",
       "      <td>Nothing</td>\n",
       "      <td>0</td>\n",
       "    </tr>\n",
       "    <tr>\n",
       "      <th>90</th>\n",
       "      <td>Plymouth</td>\n",
       "      <td>Nothing</td>\n",
       "      <td>0</td>\n",
       "    </tr>\n",
       "    <tr>\n",
       "      <th>95</th>\n",
       "      <td>Plymouth</td>\n",
       "      <td>no idea</td>\n",
       "      <td>0</td>\n",
       "    </tr>\n",
       "    <tr>\n",
       "      <th>100</th>\n",
       "      <td>Plymouth</td>\n",
       "      <td>Nothing</td>\n",
       "      <td>0</td>\n",
       "    </tr>\n",
       "    <tr>\n",
       "      <th>103</th>\n",
       "      <td>Culver</td>\n",
       "      <td>nothing</td>\n",
       "      <td>0</td>\n",
       "    </tr>\n",
       "    <tr>\n",
       "      <th>119</th>\n",
       "      <td>Remington</td>\n",
       "      <td>Nothing</td>\n",
       "      <td>0</td>\n",
       "    </tr>\n",
       "    <tr>\n",
       "      <th>140</th>\n",
       "      <td>South Bend</td>\n",
       "      <td>nothing</td>\n",
       "      <td>0</td>\n",
       "    </tr>\n",
       "  </tbody>\n",
       "</table>\n",
       "</div>"
      ],
      "text/plain": [
       "             Town           Missing  labels\n",
       "41         Bremen           Nothing       0\n",
       "66           Knox  Nothing really.        0\n",
       "68   Plymouth, IN           nothing       0\n",
       "79         Aldine           Nothing       0\n",
       "81      Mishawaka           Nothing       0\n",
       "90       Plymouth           Nothing       0\n",
       "95       Plymouth           no idea       0\n",
       "100      Plymouth           Nothing       0\n",
       "103        Culver           nothing       0\n",
       "119     Remington           Nothing       0\n",
       "140    South Bend           nothing       0"
      ]
     },
     "execution_count": 662,
     "metadata": {},
     "output_type": "execute_result"
    }
   ],
   "source": [
    "data.loc[data['labels']==0]"
   ]
  },
  {
   "cell_type": "code",
   "execution_count": 663,
   "metadata": {},
   "outputs": [
    {
     "data": {
      "text/html": [
       "<div>\n",
       "<style scoped>\n",
       "    .dataframe tbody tr th:only-of-type {\n",
       "        vertical-align: middle;\n",
       "    }\n",
       "\n",
       "    .dataframe tbody tr th {\n",
       "        vertical-align: top;\n",
       "    }\n",
       "\n",
       "    .dataframe thead th {\n",
       "        text-align: right;\n",
       "    }\n",
       "</style>\n",
       "<table border=\"1\" class=\"dataframe\">\n",
       "  <thead>\n",
       "    <tr style=\"text-align: right;\">\n",
       "      <th></th>\n",
       "      <th>Town</th>\n",
       "      <th>Missing</th>\n",
       "      <th>labels</th>\n",
       "    </tr>\n",
       "  </thead>\n",
       "  <tbody>\n",
       "    <tr>\n",
       "      <th>0</th>\n",
       "      <td>South Bend, Indiana</td>\n",
       "      <td>knkmknkn</td>\n",
       "      <td>1</td>\n",
       "    </tr>\n",
       "    <tr>\n",
       "      <th>1</th>\n",
       "      <td>Town of Milford</td>\n",
       "      <td>Fresh Produce</td>\n",
       "      <td>1</td>\n",
       "    </tr>\n",
       "    <tr>\n",
       "      <th>2</th>\n",
       "      <td>LaPaz</td>\n",
       "      <td>larger variety</td>\n",
       "      <td>1</td>\n",
       "    </tr>\n",
       "    <tr>\n",
       "      <th>3</th>\n",
       "      <td>Galien mi</td>\n",
       "      <td>Fresh produce</td>\n",
       "      <td>1</td>\n",
       "    </tr>\n",
       "    <tr>\n",
       "      <th>4</th>\n",
       "      <td>Bremen</td>\n",
       "      <td>Good fresh produce</td>\n",
       "      <td>1</td>\n",
       "    </tr>\n",
       "    <tr>\n",
       "      <th>...</th>\n",
       "      <td>...</td>\n",
       "      <td>...</td>\n",
       "      <td>...</td>\n",
       "    </tr>\n",
       "    <tr>\n",
       "      <th>136</th>\n",
       "      <td>Grovertown, Indiana</td>\n",
       "      <td>We have no local grocery store. Would love fre...</td>\n",
       "      <td>1</td>\n",
       "    </tr>\n",
       "    <tr>\n",
       "      <th>137</th>\n",
       "      <td>Walkerton</td>\n",
       "      <td>Fresh produce, good meat department, more options</td>\n",
       "      <td>1</td>\n",
       "    </tr>\n",
       "    <tr>\n",
       "      <th>138</th>\n",
       "      <td>Rome CIty</td>\n",
       "      <td>Aldi or cheaper version of grocery</td>\n",
       "      <td>1</td>\n",
       "    </tr>\n",
       "    <tr>\n",
       "      <th>139</th>\n",
       "      <td>Leesburg, IN</td>\n",
       "      <td>affordable and high quality fresh produce</td>\n",
       "      <td>1</td>\n",
       "    </tr>\n",
       "    <tr>\n",
       "      <th>141</th>\n",
       "      <td>Wanatah</td>\n",
       "      <td>Organization/products on shelves</td>\n",
       "      <td>1</td>\n",
       "    </tr>\n",
       "  </tbody>\n",
       "</table>\n",
       "<p>125 rows × 3 columns</p>\n",
       "</div>"
      ],
      "text/plain": [
       "                    Town                                            Missing  \\\n",
       "0    South Bend, Indiana                                           knkmknkn   \n",
       "1        Town of Milford                                      Fresh Produce   \n",
       "2                  LaPaz                                    larger variety    \n",
       "3              Galien mi                                     Fresh produce    \n",
       "4                 Bremen                                 Good fresh produce   \n",
       "..                   ...                                                ...   \n",
       "136  Grovertown, Indiana  We have no local grocery store. Would love fre...   \n",
       "137            Walkerton  Fresh produce, good meat department, more options   \n",
       "138            Rome CIty                 Aldi or cheaper version of grocery   \n",
       "139         Leesburg, IN          affordable and high quality fresh produce   \n",
       "141              Wanatah                   Organization/products on shelves   \n",
       "\n",
       "     labels  \n",
       "0         1  \n",
       "1         1  \n",
       "2         1  \n",
       "3         1  \n",
       "4         1  \n",
       "..      ...  \n",
       "136       1  \n",
       "137       1  \n",
       "138       1  \n",
       "139       1  \n",
       "141       1  \n",
       "\n",
       "[125 rows x 3 columns]"
      ]
     },
     "execution_count": 663,
     "metadata": {},
     "output_type": "execute_result"
    }
   ],
   "source": [
    "data.loc[data['labels']==1]"
   ]
  },
  {
   "cell_type": "code",
   "execution_count": 664,
   "metadata": {},
   "outputs": [],
   "source": [
    "data.drop(data.loc[data['labels']==0].index,inplace=True)"
   ]
  },
  {
   "cell_type": "code",
   "execution_count": 665,
   "metadata": {},
   "outputs": [
    {
     "name": "stderr",
     "output_type": "stream",
     "text": [
      "Some weights of the model checkpoint at bert-base-uncased were not used when initializing BertModel: ['cls.predictions.transform.dense.weight', 'cls.predictions.transform.LayerNorm.bias', 'cls.seq_relationship.weight', 'cls.predictions.bias', 'cls.predictions.transform.dense.bias', 'cls.seq_relationship.bias', 'cls.predictions.transform.LayerNorm.weight', 'cls.predictions.decoder.weight']\n",
      "- This IS expected if you are initializing BertModel from the checkpoint of a model trained on another task or with another architecture (e.g. initializing a BertForSequenceClassification model from a BertForPreTraining model).\n",
      "- This IS NOT expected if you are initializing BertModel from the checkpoint of a model that you expect to be exactly identical (initializing a BertForSequenceClassification model from a BertForSequenceClassification model).\n"
     ]
    },
    {
     "data": {
      "text/plain": [
       "0             [101, 14161, 22287, 2243, 8950, 2078, 102]\n",
       "1                                 [101, 4840, 3965, 102]\n",
       "2                                 [101, 3469, 3528, 102]\n",
       "3                                 [101, 4840, 3965, 102]\n",
       "4                           [101, 2204, 4840, 3965, 102]\n",
       "                             ...                        \n",
       "136    [101, 2057, 2031, 2053, 2334, 13025, 3573, 101...\n",
       "137    [101, 4840, 3965, 1010, 2204, 6240, 2533, 1010...\n",
       "138    [101, 2632, 4305, 2030, 16269, 2544, 1997, 130...\n",
       "139      [101, 15184, 1998, 2152, 3737, 4840, 3965, 102]\n",
       "141            [101, 3029, 1013, 3688, 2006, 15475, 102]\n",
       "Name: Missing, Length: 131, dtype: object"
      ]
     },
     "execution_count": 665,
     "metadata": {},
     "output_type": "execute_result"
    }
   ],
   "source": [
    "model_class, tokenizer_class, pretreined_weights = (ppb.BertModel, ppb.BertTokenizer,'bert-base-uncased')\n",
    "\n",
    "tokenizer = tokenizer_class.from_pretrained(pretreined_weights)\n",
    "\n",
    "model = model_class.from_pretrained(pretreined_weights)\n",
    "\n",
    "tokenized = data['Missing'].apply((lambda x: tokenizer.encode(x, add_special_tokens=True)))\n",
    "tokenized"
   ]
  },
  {
   "cell_type": "code",
   "execution_count": 666,
   "metadata": {},
   "outputs": [
    {
     "data": {
      "text/plain": [
       "(131, 66)"
      ]
     },
     "execution_count": 666,
     "metadata": {},
     "output_type": "execute_result"
    }
   ],
   "source": [
    "max_len = 0\n",
    "\n",
    "for i in tokenized.values:\n",
    "    if len(i) > max_len:\n",
    "        max_len = len(i)\n",
    "        \n",
    "padded = np.array([i+[0]*(max_len-len(i)) for i in tokenized.values])\n",
    "\n",
    "padded = np.array([list(x[:512]) for x in padded])\n",
    "\n",
    "np.array(padded).shape"
   ]
  },
  {
   "cell_type": "code",
   "execution_count": 667,
   "metadata": {},
   "outputs": [
    {
     "data": {
      "text/plain": [
       "(131, 66)"
      ]
     },
     "execution_count": 667,
     "metadata": {},
     "output_type": "execute_result"
    }
   ],
   "source": [
    "attention_mask = np.where(padded != 0,1,0)\n",
    "attention_mask.shape"
   ]
  },
  {
   "cell_type": "code",
   "execution_count": 668,
   "metadata": {},
   "outputs": [],
   "source": [
    "input_ids = torch.tensor(padded)\n",
    "attention_mask = torch.tensor(attention_mask)\n",
    "\n",
    "with torch.no_grad():\n",
    "    last_hidden_states = model(input_ids,attention_mask = attention_mask)"
   ]
  },
  {
   "cell_type": "code",
   "execution_count": 669,
   "metadata": {},
   "outputs": [
    {
     "data": {
      "text/plain": [
       "(131, 768)"
      ]
     },
     "execution_count": 669,
     "metadata": {},
     "output_type": "execute_result"
    }
   ],
   "source": [
    "features = last_hidden_states[0][:,0,:].numpy()\n",
    "features.shape"
   ]
  },
  {
   "cell_type": "code",
   "execution_count": 670,
   "metadata": {},
   "outputs": [],
   "source": [
    "umap_embeddings = umap.UMAP(n_neighbors=10,n_components=5,metric = 'cosine',random_state=32).fit_transform(features)\n",
    "cluster = hdbscan.HDBSCAN(min_cluster_size=5,\n",
    "                          metric = 'euclidean',\n",
    "                          cluster_selection_method='eom').fit(umap_embeddings)"
   ]
  },
  {
   "cell_type": "code",
   "execution_count": 671,
   "metadata": {},
   "outputs": [
    {
     "data": {
      "text/plain": [
       "array([ 2, -1,  2,  4,  4,  1,  3,  0,  4,  4,  0,  4, -1,  0,  2,  2,  2,\n",
       "        3,  4, -1, -1,  4,  0,  3,  0,  5, -1,  2,  0, -1, -1,  3,  3,  0,\n",
       "       -1,  0,  1,  3,  0,  4, -1,  0,  0,  5,  0,  3,  0,  5, -1,  3,  3,\n",
       "        0,  3, -1,  2,  1, -1,  5,  3,  2, -1,  1,  2, -1,  0,  5,  2,  3,\n",
       "        0,  1,  0,  2, -1,  2,  2,  0,  3, -1,  3,  3, -1,  1,  3,  0,  5,\n",
       "        1, -1,  3,  2, -1,  5,  5, -1,  4, -1,  3,  0,  2, -1,  1,  3,  5,\n",
       "        3, -1,  4,  3,  2,  0,  0, -1,  0,  5,  4, -1,  0,  4,  2, -1,  2,\n",
       "        4,  2,  4,  3,  3, -1,  4,  0,  3, -1,  4, -1])"
      ]
     },
     "execution_count": 671,
     "metadata": {},
     "output_type": "execute_result"
    }
   ],
   "source": [
    "cluster.labels_"
   ]
  },
  {
   "cell_type": "code",
   "execution_count": 672,
   "metadata": {},
   "outputs": [],
   "source": [
    "# Prepare data to visualize\n",
    "umap_data = umap.UMAP(n_neighbors=10, n_components=2, min_dist=0.0, metric='cosine').fit_transform(features)\n",
    "result = pd.DataFrame(umap_data, columns=['x', 'y'])\n",
    "result['labels'] = cluster.labels_\n",
    "\n"
   ]
  },
  {
   "cell_type": "code",
   "execution_count": 673,
   "metadata": {},
   "outputs": [
    {
     "data": {
      "text/plain": [
       "<matplotlib.colorbar.Colorbar at 0x2a72f53c0>"
      ]
     },
     "execution_count": 673,
     "metadata": {},
     "output_type": "execute_result"
    },
    {
     "data": {
      "image/png": "[encoded data removed]",
      "text/plain": [
       "<Figure size 2000x1000 with 2 Axes>"
      ]
     },
     "metadata": {},
     "output_type": "display_data"
    }
   ],
   "source": [
    "fig, ax = plt.subplots(figsize=(20, 10))\n",
    "outliers = result.loc[result.labels == -1, :]\n",
    "clustered = result.loc[result.labels != -1, :]\n",
    "plt.scatter(outliers.x, outliers.y, color='#BDBDBD')\n",
    "plt.scatter(clustered.x, clustered.y, c=clustered.labels, cmap='coolwarm',s=50)\n",
    "plt.colorbar()"
   ]
  },
  {
   "cell_type": "code",
   "execution_count": 674,
   "metadata": {},
   "outputs": [
    {
     "data": {
      "text/html": [
       "<div>\n",
       "<style scoped>\n",
       "    .dataframe tbody tr th:only-of-type {\n",
       "        vertical-align: middle;\n",
       "    }\n",
       "\n",
       "    .dataframe tbody tr th {\n",
       "        vertical-align: top;\n",
       "    }\n",
       "\n",
       "    .dataframe thead th {\n",
       "        text-align: right;\n",
       "    }\n",
       "</style>\n",
       "<table border=\"1\" class=\"dataframe\">\n",
       "  <thead>\n",
       "    <tr style=\"text-align: right;\">\n",
       "      <th></th>\n",
       "      <th>Town</th>\n",
       "      <th>Missing</th>\n",
       "      <th>labels</th>\n",
       "    </tr>\n",
       "  </thead>\n",
       "  <tbody>\n",
       "    <tr>\n",
       "      <th>0</th>\n",
       "      <td>South Bend, Indiana</td>\n",
       "      <td>knkmknkn</td>\n",
       "      <td>2</td>\n",
       "    </tr>\n",
       "    <tr>\n",
       "      <th>1</th>\n",
       "      <td>Town of Milford</td>\n",
       "      <td>Fresh Produce</td>\n",
       "      <td>-1</td>\n",
       "    </tr>\n",
       "    <tr>\n",
       "      <th>2</th>\n",
       "      <td>LaPaz</td>\n",
       "      <td>larger variety</td>\n",
       "      <td>2</td>\n",
       "    </tr>\n",
       "    <tr>\n",
       "      <th>3</th>\n",
       "      <td>Galien mi</td>\n",
       "      <td>Fresh produce</td>\n",
       "      <td>4</td>\n",
       "    </tr>\n",
       "    <tr>\n",
       "      <th>4</th>\n",
       "      <td>Bremen</td>\n",
       "      <td>Good fresh produce</td>\n",
       "      <td>4</td>\n",
       "    </tr>\n",
       "    <tr>\n",
       "      <th>5</th>\n",
       "      <td>Wakarusa, IN</td>\n",
       "      <td>N/a</td>\n",
       "      <td>1</td>\n",
       "    </tr>\n",
       "    <tr>\n",
       "      <th>6</th>\n",
       "      <td>Wakarusa, IN</td>\n",
       "      <td>more fresh/healthy options</td>\n",
       "      <td>3</td>\n",
       "    </tr>\n",
       "    <tr>\n",
       "      <th>7</th>\n",
       "      <td>North Liberty, IN</td>\n",
       "      <td>I don't shop at the Dollar General, but the lo...</td>\n",
       "      <td>0</td>\n",
       "    </tr>\n",
       "    <tr>\n",
       "      <th>8</th>\n",
       "      <td>Warsaw</td>\n",
       "      <td>Grocery Store other than Dollar General close ...</td>\n",
       "      <td>4</td>\n",
       "    </tr>\n",
       "    <tr>\n",
       "      <th>9</th>\n",
       "      <td>Wakarusa</td>\n",
       "      <td>More fresh food</td>\n",
       "      <td>4</td>\n",
       "    </tr>\n",
       "  </tbody>\n",
       "</table>\n",
       "</div>"
      ],
      "text/plain": [
       "                  Town                                            Missing  \\\n",
       "0  South Bend, Indiana                                           knkmknkn   \n",
       "1      Town of Milford                                      Fresh Produce   \n",
       "2                LaPaz                                    larger variety    \n",
       "3            Galien mi                                     Fresh produce    \n",
       "4               Bremen                                 Good fresh produce   \n",
       "5         Wakarusa, IN                                                N/a   \n",
       "6         Wakarusa, IN                         more fresh/healthy options   \n",
       "7    North Liberty, IN  I don't shop at the Dollar General, but the lo...   \n",
       "8               Warsaw  Grocery Store other than Dollar General close ...   \n",
       "9            Wakarusa                                     More fresh food   \n",
       "\n",
       "   labels  \n",
       "0       2  \n",
       "1      -1  \n",
       "2       2  \n",
       "3       4  \n",
       "4       4  \n",
       "5       1  \n",
       "6       3  \n",
       "7       0  \n",
       "8       4  \n",
       "9       4  "
      ]
     },
     "execution_count": 674,
     "metadata": {},
     "output_type": "execute_result"
    }
   ],
   "source": [
    "data['labels'] = cluster.labels_\n",
    "data.head(10)"
   ]
  },
  {
   "cell_type": "code",
   "execution_count": 692,
   "metadata": {},
   "outputs": [
    {
     "data": {
      "text/html": [
       "<div>\n",
       "<style scoped>\n",
       "    .dataframe tbody tr th:only-of-type {\n",
       "        vertical-align: middle;\n",
       "    }\n",
       "\n",
       "    .dataframe tbody tr th {\n",
       "        vertical-align: top;\n",
       "    }\n",
       "\n",
       "    .dataframe thead th {\n",
       "        text-align: right;\n",
       "    }\n",
       "</style>\n",
       "<table border=\"1\" class=\"dataframe\">\n",
       "  <thead>\n",
       "    <tr style=\"text-align: right;\">\n",
       "      <th></th>\n",
       "      <th>Town</th>\n",
       "      <th>Missing</th>\n",
       "      <th>labels</th>\n",
       "    </tr>\n",
       "  </thead>\n",
       "  <tbody>\n",
       "    <tr>\n",
       "      <th>25</th>\n",
       "      <td>Elkhart</td>\n",
       "      <td>Fresh, organic fruit and vegetables.</td>\n",
       "      <td>5</td>\n",
       "    </tr>\n",
       "    <tr>\n",
       "      <th>44</th>\n",
       "      <td>South bend</td>\n",
       "      <td>Cat food, eggs, and chicken</td>\n",
       "      <td>5</td>\n",
       "    </tr>\n",
       "    <tr>\n",
       "      <th>48</th>\n",
       "      <td>New Carlisle, Indiana</td>\n",
       "      <td>Organic produce and products.</td>\n",
       "      <td>5</td>\n",
       "    </tr>\n",
       "    <tr>\n",
       "      <th>58</th>\n",
       "      <td>Hamlet</td>\n",
       "      <td>Fresh vegetables and fruits</td>\n",
       "      <td>5</td>\n",
       "    </tr>\n",
       "    <tr>\n",
       "      <th>67</th>\n",
       "      <td>Town of Hamlet</td>\n",
       "      <td>Fresh fruits and veggies</td>\n",
       "      <td>5</td>\n",
       "    </tr>\n",
       "    <tr>\n",
       "      <th>89</th>\n",
       "      <td>North Liberty</td>\n",
       "      <td>Fresh fruit and vegetables</td>\n",
       "      <td>5</td>\n",
       "    </tr>\n",
       "    <tr>\n",
       "      <th>97</th>\n",
       "      <td>Lakeville IN.</td>\n",
       "      <td>Fresh produce and meat.</td>\n",
       "      <td>5</td>\n",
       "    </tr>\n",
       "    <tr>\n",
       "      <th>98</th>\n",
       "      <td>Lakeville</td>\n",
       "      <td>fresh vegetables</td>\n",
       "      <td>5</td>\n",
       "    </tr>\n",
       "    <tr>\n",
       "      <th>110</th>\n",
       "      <td>Lakeville, IN</td>\n",
       "      <td>Fresh vegetables</td>\n",
       "      <td>5</td>\n",
       "    </tr>\n",
       "    <tr>\n",
       "      <th>121</th>\n",
       "      <td>Chalmers, Indiana</td>\n",
       "      <td>produce and meats</td>\n",
       "      <td>5</td>\n",
       "    </tr>\n",
       "  </tbody>\n",
       "</table>\n",
       "</div>"
      ],
      "text/plain": [
       "                      Town                               Missing  labels\n",
       "25                 Elkhart  Fresh, organic fruit and vegetables.       5\n",
       "44              South bend          Cat food, eggs, and chicken        5\n",
       "48   New Carlisle, Indiana         Organic produce and products.       5\n",
       "58                  Hamlet          Fresh vegetables and fruits        5\n",
       "67          Town of Hamlet              Fresh fruits and veggies       5\n",
       "89           North Liberty            Fresh fruit and vegetables       5\n",
       "97           Lakeville IN.               Fresh produce and meat.       5\n",
       "98               Lakeville                      fresh vegetables       5\n",
       "110          Lakeville, IN                      Fresh vegetables       5\n",
       "121      Chalmers, Indiana                     produce and meats       5"
      ]
     },
     "execution_count": 692,
     "metadata": {},
     "output_type": "execute_result"
    }
   ],
   "source": [
    "data.loc[data['labels']==5]"
   ]
  }
 ],
 "metadata": {
  "kernelspec": {
   "display_name": "Python 3.10.7 64-bit",
   "language": "python",
   "name": "python3"
  },
  "language_info": {
   "codemirror_mode": {
    "name": "ipython",
    "version": 3
   },
   "file_extension": ".py",
   "mimetype": "text/x-python",
   "name": "python",
   "nbconvert_exporter": "python",
   "pygments_lexer": "ipython3",
   "version": "3.10.7"
  },
  "orig_nbformat": 4,
  "vscode": {
   "interpreter": {
    "hash": "aee8b7b246df8f9039afb4144a1f6fd8d2ca17a180786b69acc140d282b71a49"
   }
  }
 },
 "nbformat": 4,
 "nbformat_minor": 2
}
